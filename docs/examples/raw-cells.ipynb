{
 "cells": [
  {
   "cell_type": "raw",
   "metadata": {
    "raw_mimetype": "text/restructuredtext",
    "tags": []
   },
   "source": [
    ".. tags:: notebooks, celltags"
   ]
  },
  {
   "attachments": {},
   "cell_type": "markdown",
   "id": "1dbecb1f-a321-48a3-975f-5ac477f9949a",
   "metadata": {},
   "source": [
    "# Tags in Jupyter Notebooks with raw cells\n",
    "\n",
    "You can use tags in Jupyter notebooks using raw cells."
   ]
  },
  {
   "attachments": {},
   "cell_type": "markdown",
   "id": "226f2393-7238-466d-a917-68c83851242a",
   "metadata": {},
   "source": [
    "You can mix Jupyter notebooks and rst/md files with MyST-nb, but it [currently doesn't support the display of raw cells](https://github.com/executablebooks/MyST-NB/issues/117). To work around this problem you can use MyST Parser and `nbsphinx` instead to build your notebooks. See [sphinx-tags' pyproject.toml](https://github.com/melissawm/sphinx-tags/blob/main/pyproject.toml) for more information.\n",
    "\n",
    "You may need to install [pandoc](https://pandoc.org/) as a system dependency if you are using `nbsphinx`, as the PyPI package called `pandoc` does not contain the full functionality of pandoc - see the [nbsphinx documentation](https://nbsphinx.readthedocs.io/en/0.9.1/installation.html#pandoc) for details."
   ]
  },
  {
   "attachments": {},
   "cell_type": "markdown",
   "id": "65ccf087",
   "metadata": {},
   "source": [
    "**Note**: Make sure you select the correct cell type (reST) in the toolbar when you edit the notebook (see [the nbsphinx documentation](https://nbsphinx.readthedocs.io/en/0.9.2/raw-cells.html#reST) for more details)."
   ]
  }
 ],
 "metadata": {
  "kernelspec": {
   "display_name": "Python 3 (ipykernel)",
   "language": "python",
   "name": "python3"
  },
  "language_info": {
   "codemirror_mode": {
    "name": "ipython",
    "version": 3
   },
   "file_extension": ".py",
   "mimetype": "text/x-python",
   "name": "python",
   "nbconvert_exporter": "python",
   "pygments_lexer": "ipython3",
   "version": "3.11.0"
  }
 },
 "nbformat": 4,
 "nbformat_minor": 4
}
