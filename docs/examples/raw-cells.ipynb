{
 "cells": [
  {
   "cell_type": "raw",
   "metadata": {
    "raw_mimetype": "text/restructuredtext",
    "tags": []
   },
   "source": [
    ".. tags:: notebooks, celltags"
   ]
  },
  {
   "attachments": {},
   "cell_type": "markdown",
   "id": "1dbecb1f-a321-48a3-975f-5ac477f9949a",
   "metadata": {},
   "source": [
    "# Tags in Jupyter Notebooks with raw cells\n",
    "\n",
    "You can use tags in Jupyter notebooks using raw cells."
   ]
  },
  {
   "attachments": {},
   "cell_type": "markdown",
   "id": "226f2393-7238-466d-a917-68c83851242a",
   "metadata": {},
   "source": [
    "You can mix Jupyter notebooks and rst/md files with MyST-nb."
   ]
  },
  {
   "attachments": {},
   "cell_type": "markdown",
   "id": "65ccf087",
   "metadata": {},
   "source": [
    "**Note**: Make sure you select the correct cell type (reST) in the toolbar when you edit the notebook (see [the nbsphinx documentation](https://nbsphinx.readthedocs.io/en/0.9.2/raw-cells.html#reST) for more details)."
   ]
  },
  {
   "cell_type": "code",
   "execution_count": null,
   "id": "880beb3b-1698-4ad8-bb69-2c14af6a0aff",
   "metadata": {},
   "outputs": [],
   "source": []
  }
 ],
 "metadata": {
  "kernelspec": {
   "display_name": "Python 3 (ipykernel)",
   "language": "python",
   "name": "python3"
  },
  "language_info": {
   "codemirror_mode": {
    "name": "ipython",
    "version": 3
   },
   "file_extension": ".py",
   "mimetype": "text/x-python",
   "name": "python",
   "nbconvert_exporter": "python",
   "pygments_lexer": "ipython3",
   "version": "3.11.0"
  }
 },
 "nbformat": 4,
 "nbformat_minor": 4
}
